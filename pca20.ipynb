{
 "cells": [
  {
   "cell_type": "markdown",
   "id": "41c5463b-3aca-4978-8f75-c6a1c8ce921a",
   "metadata": {},
   "source": [
    "# Ans1-"
   ]
  },
  {
   "cell_type": "markdown",
   "id": "fbeb6499-6214-4bb1-bd58-cba28a406fc4",
   "metadata": {},
   "source": [
    "Min-Max scaling is a data preprocessing technique that transforms numeric features by scaling them to a specific range, typically [0, 1], preserving the relative differences between values. Example: X_scaled = (X - X_min) / (X_max - X_min).\n",
    "\n",
    "\n",
    "\n",
    "\n"
   ]
  },
  {
   "cell_type": "markdown",
   "id": "b2bcba12-ad56-42de-b120-689d658bf8ff",
   "metadata": {},
   "source": [
    "# Ans2-"
   ]
  },
  {
   "cell_type": "markdown",
   "id": "576ae65c-eff0-4985-8510-2be480f69bf6",
   "metadata": {},
   "source": [
    "The Unit Vector technique, also known as \"Normalization,\" scales features by dividing each value by the Euclidean norm of the feature vector, maintaining the direction of the vector. Example: X_normalized = X / ||X||. It differs from Min-Max scaling by not constraining values to a specific range.\n",
    "\n"
   ]
  },
  {
   "cell_type": "code",
   "execution_count": 1,
   "id": "babb5378-2510-4a7a-bf63-ee1c9bfe1eb7",
   "metadata": {},
   "outputs": [
    {
     "name": "stdout",
     "output_type": "stream",
     "text": [
      "[4.12310563 5.38516481 6.70820393]\n",
      "Min-Max Scaled Data:\n",
      "[[0. 0. 0.]\n",
      " [1. 1. 1.]]\n",
      "\n",
      "Normalized Data:\n",
      "[[0.24253563 0.37139068 0.4472136 ]\n",
      " [0.9701425  0.92847669 0.89442719]]\n"
     ]
    }
   ],
   "source": [
    "import numpy as np\n",
    "\n",
    "# Example data\n",
    "X = np.array([[1, 2, 3],\n",
    "              [4, 5, 6]])\n",
    "\n",
    "# Min-Max scaling\n",
    "X_minmax_scaled = (X - X.min(axis=0)) / (X.max(axis=0) - X.min(axis=0))\n",
    "\n",
    "# Unit Vector (Normalization)\n",
    "euclidean_norm=np.linalg.norm(X, axis=0)\n",
    "print(euclidean_norm)\n",
    "X_normalized = X / np.linalg.norm(X, axis=0)\n",
    "\n",
    "print(\"Min-Max Scaled Data:\")\n",
    "print(X_minmax_scaled)\n",
    "print(\"\\nNormalized Data:\")\n",
    "print(X_normalized)\n"
   ]
  },
  {
   "cell_type": "markdown",
   "id": "6c74028c-e62a-40d1-8814-26a486abf1ab",
   "metadata": {},
   "source": [
    "# Ans3-"
   ]
  },
  {
   "cell_type": "markdown",
   "id": "4e8bddd8-dd26-4eea-997f-92ab00edc376",
   "metadata": {},
   "source": [
    "PCA (Principal Component Analysis) is a dimensionality reduction technique that transforms high-dimensional data into a lower-dimensional representation by identifying and retaining the most important features, called principal components."
   ]
  },
  {
   "cell_type": "code",
   "execution_count": 2,
   "id": "e9b2c9ac-6781-4422-ab28-c958170c0aa0",
   "metadata": {},
   "outputs": [
    {
     "name": "stdout",
     "output_type": "stream",
     "text": [
      "Original Data:\n",
      "[[0.37454012 0.95071431 0.73199394]\n",
      " [0.59865848 0.15601864 0.15599452]\n",
      " [0.05808361 0.86617615 0.60111501]\n",
      " [0.70807258 0.02058449 0.96990985]\n",
      " [0.83244264 0.21233911 0.18182497]]\n",
      "\n",
      "Reduced Data after PCA:\n",
      "[[ 0.5382821   0.04170504]\n",
      " [-0.37801268 -0.26959854]\n",
      " [ 0.60281427 -0.09375913]\n",
      " [-0.31232627  0.5572872 ]\n",
      " [-0.45075742 -0.23563458]]\n"
     ]
    }
   ],
   "source": [
    "import numpy as np\n",
    "from sklearn.decomposition import PCA\n",
    "\n",
    "# Create a random dataset\n",
    "np.random.seed(42)\n",
    "X = np.random.rand(5, 3)  # 5 samples, 3 features\n",
    "\n",
    "# Apply PCA for dimensionality reduction\n",
    "pca = PCA(n_components=2)\n",
    "X_reduced = pca.fit_transform(X)\n",
    "\n",
    "# Display original and reduced data\n",
    "print(\"Original Data:\")\n",
    "print(X)\n",
    "print(\"\\nReduced Data after PCA:\")\n",
    "print(X_reduced)\n"
   ]
  },
  {
   "cell_type": "markdown",
   "id": "52aa94ae-628e-4229-a2ac-224e711aa240",
   "metadata": {},
   "source": [
    "# Ans4-"
   ]
  },
  {
   "cell_type": "markdown",
   "id": "8a5768d6-06da-4ddb-9f1a-c3c29da736d3",
   "metadata": {},
   "source": [
    "PCA can be used for feature extraction by identifying and selecting the most important features (principal components) from the original set. It helps capture the essential information in the data while reducing dimensionality."
   ]
  },
  {
   "cell_type": "code",
   "execution_count": 5,
   "id": "fcbd7f71-72b5-4c5b-9389-7f5d088b716e",
   "metadata": {},
   "outputs": [
    {
     "name": "stdout",
     "output_type": "stream",
     "text": [
      "Original Data:\n",
      "[[0.37454012 0.95071431 0.73199394]\n",
      " [0.59865848 0.15601864 0.15599452]\n",
      " [0.05808361 0.86617615 0.60111501]\n",
      " [0.70807258 0.02058449 0.96990985]\n",
      " [0.83244264 0.21233911 0.18182497]]\n",
      "\n",
      "Features Extracted by PCA:\n",
      "[[ 0.5382821   0.04170504]\n",
      " [-0.37801268 -0.26959854]\n",
      " [ 0.60281427 -0.09375913]\n",
      " [-0.31232627  0.5572872 ]\n",
      " [-0.45075742 -0.23563458]]\n"
     ]
    }
   ],
   "source": [
    "import numpy as np\n",
    "from sklearn.decomposition import PCA\n",
    "# create the random datasets\n",
    "np.random.seed(42)\n",
    "X=np.random.rand(5,3) # 5 samples, 3 feature\n",
    "# apply pca for feature extraction\n",
    "pca=PCA(n_components=2)\n",
    "X_feature_extracted=pca.fit_transform(X)\n",
    "# Display original and extracted features\n",
    "print(\"Original Data:\")\n",
    "print(X)\n",
    "print(\"\\nFeatures Extracted by PCA:\")\n",
    "print(X_feature_extracted)\n"
   ]
  },
  {
   "cell_type": "markdown",
   "id": "d42e4524-267e-41f6-893d-6f22b62994d8",
   "metadata": {},
   "source": [
    "# Ans5-"
   ]
  },
  {
   "cell_type": "markdown",
   "id": "104adf15-0dee-4b70-bb24-d48bbb23e15f",
   "metadata": {},
   "source": [
    "\n",
    "I would use Min-Max scaling to preprocess the features (price, rating, delivery time) by transforming them to a common range, typically [0, 1], ensuring that each feature contributes proportionally to the recommendation system."
   ]
  },
  {
   "cell_type": "markdown",
   "id": "11cba6d5-ada9-47f2-be6e-f28a98aaa01f",
   "metadata": {},
   "source": [
    "# Ans6-"
   ]
  },
  {
   "cell_type": "code",
   "execution_count": 6,
   "id": "d787ad24-e749-460e-b9fb-d0106cf23827",
   "metadata": {},
   "outputs": [
    {
     "name": "stdout",
     "output_type": "stream",
     "text": [
      "Original Data: [ 1  5 10 15 20]\n",
      "Min-Max Scaled Data: [-1.         -0.57894737 -0.05263158  0.47368421  1.        ]\n"
     ]
    }
   ],
   "source": [
    "import numpy as np\n",
    "\n",
    "# Given dataset\n",
    "data = np.array([1, 5, 10, 15, 20])\n",
    "\n",
    "# Min-Max scaling to a range of -1 to 1\n",
    "min_val = np.min(data)\n",
    "max_val = np.max(data)\n",
    "\n",
    "scaled_data = 2 * (data - min_val) / (max_val - min_val) - 1\n",
    "\n",
    "print(\"Original Data:\", data)\n",
    "print(\"Min-Max Scaled Data:\", scaled_data)\n"
   ]
  },
  {
   "cell_type": "markdown",
   "id": "69f71353-673a-485c-bf12-253d37f8f486",
   "metadata": {},
   "source": [
    "# Ans7-"
   ]
  },
  {
   "cell_type": "code",
   "execution_count": 7,
   "id": "a7e9254a-1a45-4456-8816-07039b65a9f1",
   "metadata": {},
   "outputs": [
    {
     "name": "stdout",
     "output_type": "stream",
     "text": [
      "[[0.37454012 0.03142919 0.64203165 0.         0.50313626]\n",
      " [0.95071431 0.63641041 0.08413996 1.         0.85648984]\n",
      " [0.73199394 0.31435598 0.16162871 1.         0.65869363]\n",
      " [0.59865848 0.50857069 0.89855419 1.         0.16293443]\n",
      " [0.15601864 0.90756647 0.60642906 0.         0.07056875]\n",
      " [0.15599452 0.24929223 0.00919705 0.         0.64241928]\n",
      " [0.05808361 0.41038292 0.10147154 0.         0.02651131]\n",
      " [0.86617615 0.75555114 0.66350177 1.         0.58577558]\n",
      " [0.60111501 0.22879817 0.00506158 1.         0.94023024]\n",
      " [0.70807258 0.07697991 0.16080805 1.         0.57547418]\n",
      " [0.02058449 0.28975145 0.54873379 0.         0.38816993]\n",
      " [0.96990985 0.16122129 0.6918952  1.         0.64328822]\n",
      " [0.83244264 0.92969765 0.65196126 1.         0.45825289]\n",
      " [0.21233911 0.80812038 0.22426931 1.         0.54561679]\n",
      " [0.18182497 0.63340376 0.71217922 1.         0.94146481]\n",
      " [0.18340451 0.87146059 0.23724909 0.         0.38610264]\n",
      " [0.30424224 0.80367208 0.3253997  0.         0.96119056]\n",
      " [0.52475643 0.18657006 0.74649141 1.         0.90535064]\n",
      " [0.43194502 0.892559   0.6496329  0.         0.19579113]\n",
      " [0.29122914 0.53934224 0.84922341 0.         0.0693613 ]\n",
      " [0.61185289 0.80744016 0.65761289 1.         0.100778  ]\n",
      " [0.13949386 0.8960913  0.5683086  1.         0.01822183]\n",
      " [0.29214465 0.31800347 0.09367477 0.         0.09444296]\n",
      " [0.36636184 0.11005192 0.3677158  1.         0.68300677]\n",
      " [0.45606998 0.22793516 0.26520237 0.         0.07118865]\n",
      " [0.78517596 0.42710779 0.24398964 1.         0.31897563]\n",
      " [0.19967378 0.81801477 0.97301055 0.         0.84487531]\n",
      " [0.51423444 0.86073058 0.39309772 1.         0.02327194]\n",
      " [0.59241457 0.00695213 0.89204656 0.         0.81446848]\n",
      " [0.04645041 0.5107473  0.63113863 0.         0.28185477]\n",
      " [0.60754485 0.417411   0.7948113  0.         0.11816483]\n",
      " [0.17052412 0.22210781 0.50263709 1.         0.69673717]\n",
      " [0.06505159 0.11986537 0.57690388 0.         0.62894285]\n",
      " [0.94888554 0.33761517 0.49251769 0.         0.87747201]\n",
      " [0.96563203 0.9429097  0.19524299 1.         0.73507104]\n",
      " [0.80839735 0.32320293 0.72245212 1.         0.80348093]\n",
      " [0.30461377 0.51879062 0.28077236 0.         0.28203457]\n",
      " [0.09767211 0.70301896 0.02431597 0.         0.17743954]\n",
      " [0.68423303 0.3636296  0.6454723  1.         0.75061475]\n",
      " [0.44015249 0.97178208 0.17711068 1.         0.80683474]\n",
      " [0.12203823 0.96244729 0.94045858 1.         0.99050514]\n",
      " [0.49517691 0.2517823  0.95392858 1.         0.41261768]\n",
      " [0.03438852 0.49724851 0.91486439 1.         0.37201809]\n",
      " [0.9093204  0.30087831 0.3701587  0.         0.77641296]\n",
      " [0.25877998 0.28484049 0.01545662 1.         0.34080354]\n",
      " [0.66252228 0.03688695 0.92831856 0.         0.93075733]\n",
      " [0.31171108 0.60956433 0.42818415 0.         0.85841275]\n",
      " [0.52006802 0.50267902 0.96665482 0.         0.42899403]\n",
      " [0.54671028 0.05147875 0.96361998 1.         0.75087107]\n",
      " [0.18485446 0.27864646 0.85300946 0.         0.75454287]\n",
      " [0.96958463 0.90826589 0.29444889 0.         0.10312387]\n",
      " [0.77513282 0.23956189 0.38509773 1.         0.90255291]\n",
      " [0.93949894 0.14489487 0.85113667 0.         0.50525237]\n",
      " [0.89482735 0.48945276 0.31692201 0.         0.82645747]\n",
      " [0.59789998 0.98565045 0.16949275 1.         0.3200496 ]\n",
      " [0.92187424 0.24205527 0.55680126 0.         0.89552323]\n",
      " [0.0884925  0.67213555 0.93615477 0.         0.38920168]\n",
      " [0.19598286 0.76161962 0.6960298  0.         0.01083765]\n",
      " [0.04522729 0.23763754 0.57006117 1.         0.90538198]\n",
      " [0.32533033 0.72821635 0.09717649 1.         0.09128668]\n",
      " [0.38867729 0.36778313 0.61500723 1.         0.31931364]\n",
      " [0.27134903 0.63230583 0.99005385 0.         0.95006197]\n",
      " [0.82873751 0.63352971 0.14008402 0.         0.95060715]\n",
      " [0.35675333 0.53577468 0.51832965 1.         0.57343789]\n",
      " [0.28093451 0.09028977 0.87737307 0.         0.63183721]\n",
      " [0.54269608 0.8353025  0.74076862 0.         0.44844552]\n",
      " [0.14092422 0.32078006 0.69701574 1.         0.29321077]\n",
      " [0.80219698 0.18651851 0.70248408 1.         0.32866455]\n",
      " [0.07455064 0.04077514 0.35949115 0.         0.67251846]\n",
      " [0.98688694 0.59089294 0.29359184 0.         0.75237453]\n",
      " [0.77224477 0.67756436 0.80936116 0.         0.79157904]\n",
      " [0.19871568 0.01658783 0.81011339 1.         0.78961814]\n",
      " [0.00552212 0.51209306 0.86707232 1.         0.0912061 ]\n",
      " [0.81546143 0.22649578 0.91324055 1.         0.4944203 ]\n",
      " [0.70685734 0.64517279 0.5113424  1.         0.05755876]\n",
      " [0.72900717 0.17436643 0.50151629 0.         0.54952888]\n",
      " [0.77127035 0.69093774 0.79829518 1.         0.4415305 ]\n",
      " [0.07404465 0.38673535 0.64996393 1.         0.88770418]\n",
      " [0.35846573 0.93672999 0.70196688 1.         0.35091501]\n",
      " [0.11586906 0.13752094 0.79579267 1.         0.11706702]\n",
      " [0.86310343 0.34106635 0.89000534 1.         0.14299168]\n",
      " [0.62329813 0.11347352 0.33799516 0.         0.76151063]\n",
      " [0.33089802 0.92469362 0.37558295 0.         0.61821806]\n",
      " [0.06355835 0.87733935 0.09398194 1.         0.10112268]\n",
      " [0.31098232 0.25794163 0.57828014 0.         0.08410681]\n",
      " [0.32518332 0.65998405 0.03594227 1.         0.70096913]\n",
      " [0.72960618 0.8172222  0.46559802 1.         0.07276301]\n",
      " [0.63755747 0.55520081 0.54264463 0.         0.82186006]\n",
      " [0.88721274 0.52965058 0.28654125 0.         0.70624223]\n",
      " [0.47221493 0.24185229 0.59083326 1.         0.08134878]\n",
      " [0.11959425 0.09310277 0.03050025 1.         0.08483771]\n",
      " [0.71324479 0.89721576 0.03734819 1.         0.98663958]\n",
      " [0.76078505 0.90041806 0.82260056 0.         0.3742708 ]\n",
      " [0.5612772  0.63310146 0.36019064 1.         0.37064215]\n",
      " [0.77096718 0.33902979 0.12706051 1.         0.81279957]\n",
      " [0.4937956  0.34920957 0.52224326 1.         0.94724858]\n",
      " [0.52273283 0.72595568 0.76999355 0.         0.98600106]\n",
      " [0.42754102 0.89711026 0.21582103 1.         0.75337819]\n",
      " [0.02541913 0.88708642 0.62289048 1.         0.37625959]\n",
      " [0.10789143 0.77987555 0.08534746 0.         0.08350072]]\n"
     ]
    },
    {
     "data": {
      "image/png": "[encoded data removed]",
      "text/plain": [
       "<Figure size 640x480 with 1 Axes>"
      ]
     },
     "metadata": {},
     "output_type": "display_data"
    }
   ],
   "source": [
    "import numpy as np\n",
    "from sklearn.decomposition import PCA\n",
    "import matplotlib.pyplot as plt\n",
    "\n",
    "# Creating a random dataset with 100 samples and 5 features\n",
    "np.random.seed(42)\n",
    "height = np.random.rand(100)\n",
    "weight = np.random.rand(100)\n",
    "age = np.random.rand(100)\n",
    "# Assuming gender is binary (0 or 1)\n",
    "gender = np.random.choice([0, 1], size=100)\n",
    "blood_pressure = np.random.rand(100)\n",
    "\n",
    "# Combine the features into a dataset\n",
    "X = np.column_stack((height, weight, age, gender, blood_pressure))\n",
    "print(X)\n",
    "\n",
    "# Apply PCA\n",
    "pca = PCA()\n",
    "pca.fit(X)\n",
    "\n",
    "# Plot the explained variance ratio\n",
    "explained_variance_ratio = pca.explained_variance_ratio_\n",
    "cumulative_variance_ratio = np.cumsum(explained_variance_ratio)\n",
    "\n",
    "plt.plot(cumulative_variance_ratio, marker='o')\n",
    "plt.xlabel('Number of Principal Components')\n",
    "plt.ylabel('Cumulative Explained Variance Ratio')\n",
    "plt.title('Explained Variance Ratio for PCA')\n",
    "plt.grid(True)\n",
    "plt.show()\n"
   ]
  },
  {
   "cell_type": "code",
   "execution_count": null,
   "id": "78666f0a-c36a-4e65-b79c-0078757da655",
   "metadata": {},
   "outputs": [],
   "source": []
  }
 ],
 "metadata": {
  "kernelspec": {
   "display_name": "Python 3 (ipykernel)",
   "language": "python",
   "name": "python3"
  },
  "language_info": {
   "codemirror_mode": {
    "name": "ipython",
    "version": 3
   },
   "file_extension": ".py",
   "mimetype": "text/x-python",
   "name": "python",
   "nbconvert_exporter": "python",
   "pygments_lexer": "ipython3",
   "version": "3.10.8"
  }
 },
 "nbformat": 4,
 "nbformat_minor": 5
}
